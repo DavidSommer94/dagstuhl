{
  "nbformat": 4,
  "nbformat_minor": 0,
  "metadata": {
    "colab": {
      "name": "nb1_polynomial_curve_fitting_interactive.ipynb",
      "provenance": [],
      "collapsed_sections": []
    },
    "kernelspec": {
      "name": "python3",
      "display_name": "Python 3"
    },
    "language_info": {
      "name": "python"
    }
  },
  "cells": [
    {
      "cell_type": "markdown",
      "metadata": {
        "id": "PxWJgECQ7toV"
      },
      "source": [
        "# Introduction: Polynomial curve fitting\n"
      ]
    },
    {
      "cell_type": "code",
      "metadata": {
        "id": "y9zphHvF5sEl"
      },
      "source": [
        "import numpy as np\n",
        "from matplotlib import pyplot as plt\n",
        "np.random.seed(1)"
      ],
      "execution_count": 2,
      "outputs": []
    },
    {
      "cell_type": "markdown",
      "metadata": {
        "id": "3Xivjc0R74_x"
      },
      "source": [
        "Define noisy toy data for training. "
      ]
    },
    {
      "cell_type": "code",
      "metadata": {
        "colab": {
          "base_uri": "https://localhost:8080/",
          "height": 265
        },
        "id": "-2idX1WG53Ct",
        "outputId": "4cb809c2-c67c-4833-e420-aa747cbd1fae"
      },
      "source": [
        "def create_toy_data(func, sample_size, std):\n",
        "    x = np.linspace(0, 1, sample_size)\n",
        "    t = func(x) + np.random.normal(scale=std, size=x.shape)\n",
        "    return x, t\n",
        "\n",
        "def func(x):\n",
        "    return np.sin(2 * np.pi * x)\n",
        "    # return np.exp(x)\n",
        "\n",
        "x_train, y_train = create_toy_data(func, 10, 0.25)\n",
        "x_test = np.linspace(0, 1, 100)\n",
        "y_test = func(x_test)\n",
        "\n",
        "plt.scatter(x_train, y_train, facecolor=\"none\", edgecolor=\"b\", s=50, label=\"training data\")\n",
        "plt.plot(x_test, y_test, c=\"g\", label=\"$\\sin(2\\pi x)$\")\n",
        "plt.legend()\n",
        "plt.show()\n",
        "\n"
      ],
      "execution_count": 3,
      "outputs": [
        {
          "output_type": "display_data",
          "data": {
            "image/png": "[encoded data removed]",
            "text/plain": [
              "<Figure size 432x288 with 1 Axes>"
            ]
          },
          "metadata": {
            "needs_background": "light"
          }
        }
      ]
    },
    {
      "cell_type": "markdown",
      "metadata": {
        "id": "eizhguzQ88UP"
      },
      "source": [
        "Define the transformation of the input data into feature space. Here, we use polynomials up to some maximal degree as features."
      ]
    },
    {
      "cell_type": "code",
      "metadata": {
        "id": "IXinCIvf6Ehk"
      },
      "source": [
        "import itertools\n",
        "import functools\n",
        "\n",
        "class PolynomialFeature(object):\n",
        "    \"\"\"\n",
        "    Example\n",
        "    =======\n",
        "    x =\n",
        "    [[a1, a2],\n",
        "    [b1, b2]]\n",
        "\n",
        "    y = PolynomialFeatures(degree=2).transform(x)\n",
        "    y =\n",
        "    [[1, a1, a2, a1^2, a1 * a2, a2^2],\n",
        "    [1, b1, b2, b1^2, b1 * b2, b2^2]]\n",
        "    \"\"\"\n",
        "\n",
        "    def __init__(self, degree=2):\n",
        "        assert isinstance(degree, int)\n",
        "        self.degree = degree\n",
        "\n",
        "    def transform(self, x):\n",
        "        \"\"\"\n",
        "        transforms input array with polynomial features\n",
        "\n",
        "        Parameters\n",
        "        ----------\n",
        "        x : (sample_size, n) ndarray\n",
        "            input array\n",
        "\n",
        "        Returns\n",
        "        -------\n",
        "        output : (sample_size, 1 + nC1 + ... + nCd) ndarray\n",
        "            polynomial features\n",
        "        \"\"\"\n",
        "        if x.ndim == 1:\n",
        "            x = x[:, None]\n",
        "        x_t = x.transpose()\n",
        "        features = [np.ones(len(x))]\n",
        "        for degree in range(1, self.degree + 1):\n",
        "            for items in itertools.combinations_with_replacement(x_t, degree):\n",
        "                features.append(functools.reduce(lambda x, y: x * y, items))\n",
        "        return np.asarray(features).transpose()"
      ],
      "execution_count": 4,
      "outputs": []
    },
    {
      "cell_type": "markdown",
      "metadata": {
        "id": "sBOoqxXk9G7U"
      },
      "source": [
        "Define the linear regression."
      ]
    },
    {
      "cell_type": "code",
      "metadata": {
        "id": "WXMpjORN6JHj"
      },
      "source": [
        "class LinearRegression(object):\n",
        "    \"\"\"\n",
        "    Linear regression model\n",
        "    y = X @ w \n",
        "    || y - X @ w ||^2 -> min_w\n",
        "    \"\"\"\n",
        "\n",
        "    def fit(self, X, t):\n",
        "        \"\"\"\n",
        "        perform least squares fitting\n",
        "\n",
        "        Parameters\n",
        "        ----------\n",
        "        X : (N, D) np.ndarray\n",
        "            transformed data, i.e. X = PolynomialFeature(degree).transform(x)\n",
        "        t : (N,) np.ndarray\n",
        "            training targets\n",
        "        \"\"\"\n",
        "        pass\n",
        "\n",
        "    def predict(self, X):\n",
        "        \"\"\"\n",
        "        make prediction given input\n",
        "\n",
        "        Parameters\n",
        "        ----------\n",
        "        X : (N, D) np.ndarray\n",
        "            (transformed) samples to predict their output\n",
        "\n",
        "        Returns\n",
        "        -------\n",
        "        y : (N,) np.ndarray\n",
        "            prediction of each sample\n",
        "        \"\"\"\n",
        "        pass"
      ],
      "execution_count": 5,
      "outputs": []
    },
    {
      "cell_type": "markdown",
      "metadata": {
        "id": "QphsB7D19NgC"
      },
      "source": [
        "Finally, we can fit the training data with our funtcion class."
      ]
    },
    {
      "cell_type": "code",
      "metadata": {
        "colab": {
          "base_uri": "https://localhost:8080/",
          "height": 519
        },
        "id": "hQyFaZb555mc",
        "outputId": "1a7f7526-3b1f-4f17-ef6b-791d95c8a75f"
      },
      "source": [
        "for i, degree in enumerate([0, 1, 3, 9]):\n",
        "    plt.subplot(2, 2, i + 1)\n",
        "    feature = PolynomialFeature(degree)\n",
        "    X_train = feature.transform(x_train)\n",
        "    X_test = feature.transform(x_test)\n",
        "\n",
        "    model = LinearRegression()\n",
        "    model.fit(X_train, y_train)\n",
        "    y = model.predict(X_test)\n",
        "\n",
        "    plt.scatter(x_train, y_train, facecolor=\"none\", edgecolor=\"b\", s=50, label=\"training data\")\n",
        "    plt.plot(x_test, y_test, c=\"g\", label=\"$\\sin(2\\pi x)$\")\n",
        "    plt.plot(x_test, y, c=\"r\", label=\"fitting\")\n",
        "    # plt.ylim(-1.5, 1.5)\n",
        "    plt.annotate(\"M={}\".format(degree), xy=(-0.15, 1))\n",
        "plt.legend(bbox_to_anchor=(1.05, 0.64), loc=2, borderaxespad=0.)\n",
        "plt.show()"
      ],
      "execution_count": 6,
      "outputs": [
        {
          "output_type": "error",
          "ename": "ValueError",
          "evalue": "ignored",
          "traceback": [
            "\u001b[0;31m---------------------------------------------------------------------------\u001b[0m",
            "\u001b[0;31mValueError\u001b[0m                                Traceback (most recent call last)",
            "\u001b[0;32m<ipython-input-6-e3be23e4d77f>\u001b[0m in \u001b[0;36m<module>\u001b[0;34m()\u001b[0m\n\u001b[1;32m     11\u001b[0m     \u001b[0mplt\u001b[0m\u001b[0;34m.\u001b[0m\u001b[0mscatter\u001b[0m\u001b[0;34m(\u001b[0m\u001b[0mx_train\u001b[0m\u001b[0;34m,\u001b[0m \u001b[0my_train\u001b[0m\u001b[0;34m,\u001b[0m \u001b[0mfacecolor\u001b[0m\u001b[0;34m=\u001b[0m\u001b[0;34m\"none\"\u001b[0m\u001b[0;34m,\u001b[0m \u001b[0medgecolor\u001b[0m\u001b[0;34m=\u001b[0m\u001b[0;34m\"b\"\u001b[0m\u001b[0;34m,\u001b[0m \u001b[0ms\u001b[0m\u001b[0;34m=\u001b[0m\u001b[0;36m50\u001b[0m\u001b[0;34m,\u001b[0m \u001b[0mlabel\u001b[0m\u001b[0;34m=\u001b[0m\u001b[0;34m\"training data\"\u001b[0m\u001b[0;34m)\u001b[0m\u001b[0;34m\u001b[0m\u001b[0;34m\u001b[0m\u001b[0m\n\u001b[1;32m     12\u001b[0m     \u001b[0mplt\u001b[0m\u001b[0;34m.\u001b[0m\u001b[0mplot\u001b[0m\u001b[0;34m(\u001b[0m\u001b[0mx_test\u001b[0m\u001b[0;34m,\u001b[0m \u001b[0my_test\u001b[0m\u001b[0;34m,\u001b[0m \u001b[0mc\u001b[0m\u001b[0;34m=\u001b[0m\u001b[0;34m\"g\"\u001b[0m\u001b[0;34m,\u001b[0m \u001b[0mlabel\u001b[0m\u001b[0;34m=\u001b[0m\u001b[0;34m\"$\\sin(2\\pi x)$\"\u001b[0m\u001b[0;34m)\u001b[0m\u001b[0;34m\u001b[0m\u001b[0;34m\u001b[0m\u001b[0m\n\u001b[0;32m---> 13\u001b[0;31m     \u001b[0mplt\u001b[0m\u001b[0;34m.\u001b[0m\u001b[0mplot\u001b[0m\u001b[0;34m(\u001b[0m\u001b[0mx_test\u001b[0m\u001b[0;34m,\u001b[0m \u001b[0my\u001b[0m\u001b[0;34m,\u001b[0m \u001b[0mc\u001b[0m\u001b[0;34m=\u001b[0m\u001b[0;34m\"r\"\u001b[0m\u001b[0;34m,\u001b[0m \u001b[0mlabel\u001b[0m\u001b[0;34m=\u001b[0m\u001b[0;34m\"fitting\"\u001b[0m\u001b[0;34m)\u001b[0m\u001b[0;34m\u001b[0m\u001b[0;34m\u001b[0m\u001b[0m\n\u001b[0m\u001b[1;32m     14\u001b[0m     \u001b[0;31m# plt.ylim(-1.5, 1.5)\u001b[0m\u001b[0;34m\u001b[0m\u001b[0;34m\u001b[0m\u001b[0;34m\u001b[0m\u001b[0m\n\u001b[1;32m     15\u001b[0m     \u001b[0mplt\u001b[0m\u001b[0;34m.\u001b[0m\u001b[0mannotate\u001b[0m\u001b[0;34m(\u001b[0m\u001b[0;34m\"M={}\"\u001b[0m\u001b[0;34m.\u001b[0m\u001b[0mformat\u001b[0m\u001b[0;34m(\u001b[0m\u001b[0mdegree\u001b[0m\u001b[0;34m)\u001b[0m\u001b[0;34m,\u001b[0m \u001b[0mxy\u001b[0m\u001b[0;34m=\u001b[0m\u001b[0;34m(\u001b[0m\u001b[0;34m-\u001b[0m\u001b[0;36m0.15\u001b[0m\u001b[0;34m,\u001b[0m \u001b[0;36m1\u001b[0m\u001b[0;34m)\u001b[0m\u001b[0;34m)\u001b[0m\u001b[0;34m\u001b[0m\u001b[0;34m\u001b[0m\u001b[0m\n",
            "\u001b[0;32m/usr/local/lib/python3.7/dist-packages/matplotlib/pyplot.py\u001b[0m in \u001b[0;36mplot\u001b[0;34m(scalex, scaley, data, *args, **kwargs)\u001b[0m\n\u001b[1;32m   2761\u001b[0m     return gca().plot(\n\u001b[1;32m   2762\u001b[0m         *args, scalex=scalex, scaley=scaley, **({\"data\": data} if data\n\u001b[0;32m-> 2763\u001b[0;31m         is not None else {}), **kwargs)\n\u001b[0m\u001b[1;32m   2764\u001b[0m \u001b[0;34m\u001b[0m\u001b[0m\n\u001b[1;32m   2765\u001b[0m \u001b[0;34m\u001b[0m\u001b[0m\n",
            "\u001b[0;32m/usr/local/lib/python3.7/dist-packages/matplotlib/axes/_axes.py\u001b[0m in \u001b[0;36mplot\u001b[0;34m(self, scalex, scaley, data, *args, **kwargs)\u001b[0m\n\u001b[1;32m   1645\u001b[0m         \"\"\"\n\u001b[1;32m   1646\u001b[0m         \u001b[0mkwargs\u001b[0m \u001b[0;34m=\u001b[0m \u001b[0mcbook\u001b[0m\u001b[0;34m.\u001b[0m\u001b[0mnormalize_kwargs\u001b[0m\u001b[0;34m(\u001b[0m\u001b[0mkwargs\u001b[0m\u001b[0;34m,\u001b[0m \u001b[0mmlines\u001b[0m\u001b[0;34m.\u001b[0m\u001b[0mLine2D\u001b[0m\u001b[0;34m)\u001b[0m\u001b[0;34m\u001b[0m\u001b[0;34m\u001b[0m\u001b[0m\n\u001b[0;32m-> 1647\u001b[0;31m         \u001b[0mlines\u001b[0m \u001b[0;34m=\u001b[0m \u001b[0;34m[\u001b[0m\u001b[0;34m*\u001b[0m\u001b[0mself\u001b[0m\u001b[0;34m.\u001b[0m\u001b[0m_get_lines\u001b[0m\u001b[0;34m(\u001b[0m\u001b[0;34m*\u001b[0m\u001b[0margs\u001b[0m\u001b[0;34m,\u001b[0m \u001b[0mdata\u001b[0m\u001b[0;34m=\u001b[0m\u001b[0mdata\u001b[0m\u001b[0;34m,\u001b[0m \u001b[0;34m**\u001b[0m\u001b[0mkwargs\u001b[0m\u001b[0;34m)\u001b[0m\u001b[0;34m]\u001b[0m\u001b[0;34m\u001b[0m\u001b[0;34m\u001b[0m\u001b[0m\n\u001b[0m\u001b[1;32m   1648\u001b[0m         \u001b[0;32mfor\u001b[0m \u001b[0mline\u001b[0m \u001b[0;32min\u001b[0m \u001b[0mlines\u001b[0m\u001b[0;34m:\u001b[0m\u001b[0;34m\u001b[0m\u001b[0;34m\u001b[0m\u001b[0m\n\u001b[1;32m   1649\u001b[0m             \u001b[0mself\u001b[0m\u001b[0;34m.\u001b[0m\u001b[0madd_line\u001b[0m\u001b[0;34m(\u001b[0m\u001b[0mline\u001b[0m\u001b[0;34m)\u001b[0m\u001b[0;34m\u001b[0m\u001b[0;34m\u001b[0m\u001b[0m\n",
            "\u001b[0;32m/usr/local/lib/python3.7/dist-packages/matplotlib/axes/_base.py\u001b[0m in \u001b[0;36m__call__\u001b[0;34m(self, *args, **kwargs)\u001b[0m\n\u001b[1;32m    214\u001b[0m                 \u001b[0mthis\u001b[0m \u001b[0;34m+=\u001b[0m \u001b[0margs\u001b[0m\u001b[0;34m[\u001b[0m\u001b[0;36m0\u001b[0m\u001b[0;34m]\u001b[0m\u001b[0;34m,\u001b[0m\u001b[0;34m\u001b[0m\u001b[0;34m\u001b[0m\u001b[0m\n\u001b[1;32m    215\u001b[0m                 \u001b[0margs\u001b[0m \u001b[0;34m=\u001b[0m \u001b[0margs\u001b[0m\u001b[0;34m[\u001b[0m\u001b[0;36m1\u001b[0m\u001b[0;34m:\u001b[0m\u001b[0;34m]\u001b[0m\u001b[0;34m\u001b[0m\u001b[0;34m\u001b[0m\u001b[0m\n\u001b[0;32m--> 216\u001b[0;31m             \u001b[0;32myield\u001b[0m \u001b[0;32mfrom\u001b[0m \u001b[0mself\u001b[0m\u001b[0;34m.\u001b[0m\u001b[0m_plot_args\u001b[0m\u001b[0;34m(\u001b[0m\u001b[0mthis\u001b[0m\u001b[0;34m,\u001b[0m \u001b[0mkwargs\u001b[0m\u001b[0;34m)\u001b[0m\u001b[0;34m\u001b[0m\u001b[0;34m\u001b[0m\u001b[0m\n\u001b[0m\u001b[1;32m    217\u001b[0m \u001b[0;34m\u001b[0m\u001b[0m\n\u001b[1;32m    218\u001b[0m     \u001b[0;32mdef\u001b[0m \u001b[0mget_next_color\u001b[0m\u001b[0;34m(\u001b[0m\u001b[0mself\u001b[0m\u001b[0;34m)\u001b[0m\u001b[0;34m:\u001b[0m\u001b[0;34m\u001b[0m\u001b[0;34m\u001b[0m\u001b[0m\n",
            "\u001b[0;32m/usr/local/lib/python3.7/dist-packages/matplotlib/axes/_base.py\u001b[0m in \u001b[0;36m_plot_args\u001b[0;34m(self, tup, kwargs)\u001b[0m\n\u001b[1;32m    320\u001b[0m         \u001b[0;31m# element array of None which causes problems downstream.\u001b[0m\u001b[0;34m\u001b[0m\u001b[0;34m\u001b[0m\u001b[0;34m\u001b[0m\u001b[0m\n\u001b[1;32m    321\u001b[0m         \u001b[0;32mif\u001b[0m \u001b[0many\u001b[0m\u001b[0;34m(\u001b[0m\u001b[0mv\u001b[0m \u001b[0;32mis\u001b[0m \u001b[0;32mNone\u001b[0m \u001b[0;32mfor\u001b[0m \u001b[0mv\u001b[0m \u001b[0;32min\u001b[0m \u001b[0mtup\u001b[0m\u001b[0;34m)\u001b[0m\u001b[0;34m:\u001b[0m\u001b[0;34m\u001b[0m\u001b[0;34m\u001b[0m\u001b[0m\n\u001b[0;32m--> 322\u001b[0;31m             \u001b[0;32mraise\u001b[0m \u001b[0mValueError\u001b[0m\u001b[0;34m(\u001b[0m\u001b[0;34m\"x, y, and format string must not be None\"\u001b[0m\u001b[0;34m)\u001b[0m\u001b[0;34m\u001b[0m\u001b[0;34m\u001b[0m\u001b[0m\n\u001b[0m\u001b[1;32m    323\u001b[0m \u001b[0;34m\u001b[0m\u001b[0m\n\u001b[1;32m    324\u001b[0m         \u001b[0mkw\u001b[0m \u001b[0;34m=\u001b[0m \u001b[0;34m{\u001b[0m\u001b[0;34m}\u001b[0m\u001b[0;34m\u001b[0m\u001b[0;34m\u001b[0m\u001b[0m\n",
            "\u001b[0;31mValueError\u001b[0m: x, y, and format string must not be None"
          ]
        },
        {
          "output_type": "display_data",
          "data": {
            "image/png": "[encoded data removed]",
            "text/plain": [
              "<Figure size 432x288 with 1 Axes>"
            ]
          },
          "metadata": {
            "needs_background": "light"
          }
        }
      ]
    },
    {
      "cell_type": "markdown",
      "metadata": {
        "id": "n3u5OCrV9SOZ"
      },
      "source": [
        "We notice a common problem in all sorts of learning methods: overfitting. For higher polynomial degrees (for example 9), we notice that the fitting curve interpolates the data perfectly, but the underlying function is completely misrepresented.\n",
        "\n",
        "This effect gets more pronounced the more expressive our function space becomes."
      ]
    },
    {
      "cell_type": "code",
      "metadata": {
        "id": "idCVcVBj575w"
      },
      "source": [
        "\n",
        "def rmse(a, b):\n",
        "    return np.sqrt(np.mean(np.square(a - b)))\n",
        "\n",
        "training_errors = []\n",
        "test_errors = []\n",
        "\n",
        "for i in range(15):\n",
        "    feature = PolynomialFeature(i)\n",
        "    X_train = feature.transform(x_train)\n",
        "    X_test = feature.transform(x_test)\n",
        "\n",
        "    model = LinearRegression()\n",
        "    model.fit(X_train, y_train)\n",
        "    y = model.predict(X_test)\n",
        "    training_errors.append(rmse(model.predict(X_train), y_train))\n",
        "    test_errors.append(rmse(model.predict(X_test), y_test + np.random.normal(scale=0.25, size=len(y_test))))\n",
        "\n",
        "plt.plot(training_errors, 'o-', mfc=\"none\", mec=\"b\", ms=10, c=\"b\", label=\"Training\")\n",
        "plt.plot(test_errors, 'o-', mfc=\"none\", mec=\"r\", ms=10, c=\"r\", label=\"Test\")\n",
        "plt.legend()\n",
        "plt.xlabel(\"degree\")\n",
        "plt.ylabel(\"RMSE\")\n",
        "plt.show()\n",
        "\n"
      ],
      "execution_count": null,
      "outputs": []
    },
    {
      "cell_type": "markdown",
      "metadata": {
        "id": "GIHOd_p395Kp"
      },
      "source": [
        "Overfitting can be reduced by introducing regularization. This is a form of prior knowledge, i.e. that the fitting curve should be \"smooth\" and not oscillate rapidly (as it does in the unregularized case for high polynomial degrees).\n",
        "\n",
        "One way to do this is to penalize the 2-norm of the basis coefficients $w$."
      ]
    },
    {
      "cell_type": "code",
      "metadata": {
        "id": "Qla6Z0AQ6Q19"
      },
      "source": [
        "class LinearRegressionRegularized(object):\n",
        "    \"\"\"\n",
        "    Linear regression model\n",
        "    || y - X @ w || + alpha*|| w ||_2^2 -> min_w\n",
        "    \"\"\"\n",
        "    \n"
      ],
      "execution_count": null,
      "outputs": []
    },
    {
      "cell_type": "markdown",
      "metadata": {
        "id": "UkQYMxE5_xOO"
      },
      "source": [
        "With suitable regularization in place, even complex function spaces can be used without overfitting."
      ]
    },
    {
      "cell_type": "code",
      "metadata": {
        "id": "zNArCaz35-qv"
      },
      "source": [
        "\n",
        "\n",
        "feature = PolynomialFeature(9)\n",
        "X_train = feature.transform(x_train)\n",
        "X_test = feature.transform(x_test)\n",
        "\n",
        "model = LinearRegressionRegularized(alpha=1e-3)\n",
        "model.fit(X_train, y_train)\n",
        "y = model.predict(X_test)\n",
        "\n",
        "y = model.predict(X_test)\n",
        "plt.scatter(x_train, y_train, facecolor=\"none\", edgecolor=\"b\", s=50, label=\"training data\")\n",
        "plt.plot(x_test, y_test, c=\"g\", label=\"$\\sin(2\\pi x)$\")\n",
        "plt.plot(x_test, y, c=\"r\", label=\"fitting\")\n",
        "# plt.ylim(-1.5, 1.5)\n",
        "plt.legend()\n",
        "plt.annotate(\"M=9\", xy=(-0.15, 1))\n",
        "plt.show()\n",
        "\n"
      ],
      "execution_count": null,
      "outputs": []
    },
    {
      "cell_type": "code",
      "metadata": {
        "id": "UOBRDmQ0613C"
      },
      "source": [
        "def rmse(a, b):\n",
        "    return np.sqrt(np.mean(np.square(a - b)))\n",
        "\n",
        "training_errors = []\n",
        "test_errors = []\n",
        "\n",
        "for i in range(15):\n",
        "    feature = PolynomialFeature(i)\n",
        "    X_train = feature.transform(x_train)\n",
        "    X_test = feature.transform(x_test)\n",
        "\n",
        "    model = LinearRegressionRegularized(alpha=1e-3)\n",
        "    model.fit(X_train, y_train)\n",
        "    y = model.predict(X_test)\n",
        "    training_errors.append(rmse(model.predict(X_train), y_train))\n",
        "    test_errors.append(rmse(model.predict(X_test), y_test + np.random.normal(scale=0.25, size=len(y_test))))\n",
        "\n",
        "plt.plot(training_errors, 'o-', mfc=\"none\", mec=\"b\", ms=10, c=\"b\", label=\"Training\")\n",
        "plt.plot(test_errors, 'o-', mfc=\"none\", mec=\"r\", ms=10, c=\"r\", label=\"Test\")\n",
        "plt.legend()\n",
        "plt.xlabel(\"degree\")\n",
        "plt.ylabel(\"RMSE\")\n",
        "plt.show()\n"
      ],
      "execution_count": null,
      "outputs": []
    }
  ]
}