{
  "nbformat": 4,
  "nbformat_minor": 0,
  "metadata": {
    "colab": {
      "name": "nb3_GPrealDatasets.ipynb",
      "provenance": [],
      "collapsed_sections": []
    },
    "kernelspec": {
      "name": "python3",
      "display_name": "Python 3"
    },
    "language_info": {
      "name": "python"
    }
  },
  "cells": [
    {
      "cell_type": "markdown",
      "metadata": {
        "id": "81dXkX4NejKD"
      },
      "source": [
        "Clone into the repository to gain acces to the uci datasets"
      ]
    },
    {
      "cell_type": "code",
      "metadata": {
        "colab": {
          "base_uri": "https://localhost:8080/"
        },
        "id": "g1ZDgXQDcYm-",
        "outputId": "7f2f490f-dc07-4f73-e00f-44b5cde04c58"
      },
      "source": [
        "!git clone https://github.com/DavidSommer94/dagstuhl"
      ],
      "execution_count": 231,
      "outputs": [
        {
          "output_type": "stream",
          "text": [
            "fatal: destination path 'dagstuhl' already exists and is not an empty directory.\n"
          ],
          "name": "stdout"
        }
      ]
    },
    {
      "cell_type": "markdown",
      "metadata": {
        "id": "85w46jwvaOMU"
      },
      "source": [
        "First, we have to install gpytorch which is pytorch's module containing Gaussian processes.\n",
        "\n"
      ]
    },
    {
      "cell_type": "code",
      "metadata": {
        "id": "UmkQQDSuWEfj"
      },
      "source": [
        "import torch\n",
        "torch.set_default_dtype(torch.double)"
      ],
      "execution_count": 2,
      "outputs": []
    },
    {
      "cell_type": "code",
      "metadata": {
        "colab": {
          "base_uri": "https://localhost:8080/"
        },
        "id": "Ju34dKhFaa-x",
        "outputId": "a7ccab46-6a5a-4486-e300-5c6989b593db"
      },
      "source": [
        "!pip install gpytorch"
      ],
      "execution_count": 3,
      "outputs": [
        {
          "output_type": "stream",
          "text": [
            "Requirement already satisfied: gpytorch in /usr/local/lib/python3.7/dist-packages (1.5.0)\n",
            "Requirement already satisfied: scikit-learn in /usr/local/lib/python3.7/dist-packages (from gpytorch) (0.22.2.post1)\n",
            "Requirement already satisfied: scipy in /usr/local/lib/python3.7/dist-packages (from gpytorch) (1.4.1)\n",
            "Requirement already satisfied: torch>=1.8.1 in /usr/local/lib/python3.7/dist-packages (from gpytorch) (1.9.0+cu102)\n",
            "Requirement already satisfied: typing-extensions in /usr/local/lib/python3.7/dist-packages (from torch>=1.8.1->gpytorch) (3.7.4.3)\n",
            "Requirement already satisfied: numpy>=1.11.0 in /usr/local/lib/python3.7/dist-packages (from scikit-learn->gpytorch) (1.19.5)\n",
            "Requirement already satisfied: joblib>=0.11 in /usr/local/lib/python3.7/dist-packages (from scikit-learn->gpytorch) (1.0.1)\n"
          ],
          "name": "stdout"
        }
      ]
    },
    {
      "cell_type": "code",
      "metadata": {
        "id": "tJeNHBUkaWNP"
      },
      "source": [
        "import gpytorch\n",
        "from gpytorch.models import ApproximateGP\n",
        "from gpytorch.variational import MeanFieldVariationalDistribution\n",
        "from gpytorch.variational import VariationalStrategy\n",
        "\n",
        "import math\n",
        "\n",
        "class GPModel(ApproximateGP):\n",
        "    def __init__(self, inducing_points):\n",
        "        variational_distribution = MeanFieldVariationalDistribution(num_inducing_points=inducing_points.shape[0])\n",
        "        variational_strategy = VariationalStrategy(\n",
        "            model=self,\n",
        "            inducing_points=inducing_points,\n",
        "            variational_distribution=variational_distribution,\n",
        "            learn_inducing_locations=True\n",
        "        )\n",
        "        super().__init__(variational_strategy)\n",
        "\n",
        "        self.mean_func = gpytorch.means.ConstantMean()\n",
        "        self.covariance_func = gpytorch.kernels.RBFKernel(\n",
        "                lengthscale_prior=gpytorch.priors.SmoothedBoxPrior(\n",
        "                    a=1e-1,\n",
        "                    b=10.\n",
        "                ),\n",
        "                # ard_num_dims=2\n",
        "            )\n",
        "\n",
        "    def forward(self, data):\n",
        "        mean = self.mean_func(data)\n",
        "        covariance = self.covariance_func(data)\n",
        "\n",
        "        return gpytorch.distributions.MultivariateNormal(mean=mean, covariance_matrix=covariance)\n"
      ],
      "execution_count": 4,
      "outputs": []
    },
    {
      "cell_type": "markdown",
      "metadata": {
        "id": "OU8ImBu2auVm"
      },
      "source": [
        "Next we load the real data examples from the uci set."
      ]
    },
    {
      "cell_type": "code",
      "metadata": {
        "id": "olwtpt_FbAg8"
      },
      "source": [
        "from torch.utils.data import DataLoader, TensorDataset\n",
        "\n",
        "import numpy as np\n",
        "from scipy.io import loadmat\n",
        "from math import floor"
      ],
      "execution_count": 5,
      "outputs": []
    },
    {
      "cell_type": "code",
      "metadata": {
        "id": "00jM-KgxbMfl",
        "colab": {
          "base_uri": "https://localhost:8080/"
        },
        "outputId": "46b54840-ba86-43ea-8e0f-22aab9e4dc8f"
      },
      "source": [
        "# 45730 Data points of 9 attributes/dimensions each  \n",
        "data_set = loadmat('/content/dagstuhl/uci/protein.mat')['data']\n",
        "data = data_set[:, :-1]        \n",
        "data = (data - data.min(0)[0]) / (data.max(0)[0] - data.min(0)[0]) # normalize data on [0,1]\n",
        "target = data_set[:, -1]\n",
        "\n",
        "\n",
        "# # 48827 Data points of 20 attributes/dimensions each \n",
        "# data_set = loadmat('/content/dagstuhl/uci/keggdirected.mat')['data']\n",
        "# data = data_set[:, :-1]\n",
        "# data = (data - data.min(0)[0]) / (data.max(0)[0] - data.min(0)[0])\n",
        "# target = data_set[:, -1]\n",
        "\n",
        "# 40000 Data points of 8 attributes/dimensions each \n",
        "data_set = loadmat('/content/dagstuhl/uci/kin40k.mat')['data']\n",
        "data = data_set[:, :-1]\n",
        "data = (data - data.min(0)[0]) / (data.max(0)[0] - data.min(0)[0])\n",
        "target = data_set[:, -1]\n",
        "\n",
        "def create_toy_data(func, n=1000, std=1., domain=[0., 1.]):\n",
        "    x = np.linspace(domain[0], domain[1], n)\n",
        "    t = func(x) + np.random.normal(scale=std, size=n)\n",
        "    return x, t\n",
        "\n",
        "def sinusoidal(x):\n",
        "    return np.sin(2 * np.pi * x)\n",
        "\n",
        "data, target = create_toy_data(sinusoidal, n=100, std=.1, domain=[0., 1.])\n",
        "data = data[:,None]\n",
        "data_set = (data, target)\n",
        "print(data.shape)\n",
        "print(target.shape)"
      ],
      "execution_count": 43,
      "outputs": [
        {
          "output_type": "stream",
          "text": [
            "(100, 1)\n",
            "(100,)\n"
          ],
          "name": "stdout"
        }
      ]
    },
    {
      "cell_type": "markdown",
      "metadata": {
        "id": "Aa82UTxokP5Y"
      },
      "source": [
        "Define the training of the model."
      ]
    },
    {
      "cell_type": "code",
      "metadata": {
        "id": "xjzq2ta4ozHb"
      },
      "source": [
        "num_train = int(floor(0.7 * len(data)))\n",
        "num_val = int(floor(0.15 * len(data)))\n",
        "\n",
        "dtype=torch.double\n",
        "train_data = torch.as_tensor(data[: num_train, :], dtype=dtype)\n",
        "train_target = torch.as_tensor(target[:num_train], dtype=dtype)\n",
        "# train_loader = DataLoader(dataset=TensorDataset(train_data, train_target), batch_size=train_data.shape[0])\n",
        "\n",
        "test_data = torch.as_tensor(data[num_train:num_train + num_val, :], dtype=dtype)\n",
        "test_target = torch.as_tensor(target[num_train:num_train + num_val], dtype=dtype)\n",
        "\n",
        "train_dataloader = DataLoader(dataset=TensorDataset(train_data, train_target), batch_size=1000)\n",
        "test_dataloader = DataLoader(dataset=TensorDataset(test_data, test_target), batch_size=1000)"
      ],
      "execution_count": 44,
      "outputs": []
    },
    {
      "cell_type": "code",
      "metadata": {
        "id": "3cyQKUnDqr7G"
      },
      "source": [
        "def train_loop(model, dataloader, loss_fn, optimizer):\n",
        "    for X, y in dataloader:\n",
        "        pred = model(X)\n",
        "        loss = loss_fn(pred, y)\n",
        "        \n",
        "        optimizer.zero_grad()\n",
        "        loss.backward()\n",
        "        optimizer.step()\n",
        "\n",
        "def test_loop(model, dataloader, loss_fn):\n",
        "    total_samples = len(dataloader.dataset)\n",
        "    test_loss, correct = 0, 0\n",
        "    with torch.no_grad():\n",
        "        for X, y in dataloader:\n",
        "            pred = model(X)\n",
        "            test_loss += loss_fn(pred, y).item()\n",
        "            correct += (pred.argmax(1) == y).type(torch.float).sum().item()\n",
        "    return correct/total_samples, test_loss / total_samples"
      ],
      "execution_count": 45,
      "outputs": []
    },
    {
      "cell_type": "code",
      "metadata": {
        "id": "4JP4UWxLqvXx"
      },
      "source": [
        "import torch.nn as nn\n",
        "from torch.optim import Adam\n",
        "\n",
        "device = torch.device('cpu')\n",
        "config = dict(\n",
        "        gp_lr=1e-3,\n",
        "        num_ind_points=100\n",
        "    )\n",
        "\n",
        "inducing_points = torch.rand((config['num_ind_points'], train_dataloader.dataset[0][0].shape[0]))\n",
        "\n",
        "model = GPModel(inducing_points).to(device)\n",
        "likelihood = gpytorch.likelihoods.GaussianLikelihood().to(device)\n",
        "\n",
        "optimizer = Adam([\n",
        "    {'params': model.parameters()},\n",
        "    {'params': likelihood.parameters()}\n",
        "    ],\n",
        "    lr=config['gp_lr'],\n",
        "    weight_decay=0.\n",
        ")\n",
        "\n",
        "elbo = gpytorch.mlls.VariationalELBO(likelihood, model, num_data=len(train_dataloader.dataset)).to(device)\n",
        "objective = nn.MSELoss(reduction='mean').to(device)\n",
        "\n",
        "loss_fn = nn.CrossEntropyLoss()\n",
        "\n",
        "def train_loop(model, dataloader, loss_fn, optimizer, verbose=False):\n",
        "    for X, y in dataloader:\n",
        "        pred = model(X)\n",
        "        loss = -elbo(pred, y)\n",
        "        \n",
        "        optimizer.zero_grad()\n",
        "        loss.backward()\n",
        "\n",
        "        if verbose:\n",
        "          print('Loss: %.3f   lengthscale: %.3f' % (\n",
        "          loss.item(),\n",
        "          model.covariance_func.lengthscale\n",
        "          ))\n",
        "        optimizer.step()\n",
        "\n",
        "def test_loop(model, dataloader, loss_fn):\n",
        "    total_samples = len(dataloader.dataset)\n",
        "    test_loss = 0.\n",
        "    with torch.no_grad():\n",
        "        for X, y in dataloader:\n",
        "            pred = model(X)\n",
        "            test_loss += objective(pred.mean, y).item()\n",
        "    return test_loss / total_samples"
      ],
      "execution_count": 46,
      "outputs": []
    },
    {
      "cell_type": "code",
      "metadata": {
        "colab": {
          "base_uri": "https://localhost:8080/"
        },
        "id": "9Uf99vRVq6mc",
        "outputId": "3a31423c-4d05-41dc-d5ac-04930b50f35c"
      },
      "source": [
        "from tqdm import trange\n",
        "\n",
        "epochs = 200\n",
        "with trange(epochs) as pbar:\n",
        "    for t in pbar:\n",
        "        train_loop(model, train_dataloader, loss_fn, optimizer)\n",
        "        avg_loss = test_loop(model, test_dataloader, loss_fn)\n",
        "        pbar.set_description(f\"Epoch {t+1}\")\n",
        "        pbar.set_postfix(loss=avg_loss)\n",
        "\n",
        "avg_loss = test_loop(model, test_dataloader, loss_fn)\n",
        "print(f\"Done! Loss: {avg_loss:f}\")\n"
      ],
      "execution_count": 47,
      "outputs": [
        {
          "output_type": "stream",
          "text": [
            "Epoch 200: 100%|██████████| 200/200 [00:04<00:00, 42.72it/s, loss=0.0376]"
          ],
          "name": "stderr"
        },
        {
          "output_type": "stream",
          "text": [
            "Done! Loss: 0.037637\n"
          ],
          "name": "stdout"
        },
        {
          "output_type": "stream",
          "text": [
            "\n"
          ],
          "name": "stderr"
        }
      ]
    },
    {
      "cell_type": "code",
      "metadata": {
        "colab": {
          "base_uri": "https://localhost:8080/",
          "height": 265
        },
        "id": "qyXz-NVuG-JV",
        "outputId": "71cfab3c-d05a-49f5-af08-fc23e6841751"
      },
      "source": [
        "if (data.shape[1] == 1 and len(target.shape) == 1):\n",
        "\n",
        "  x = torch.linspace(0,1,100)[:,None]\n",
        "  mean = model(x).mean.detach().numpy()\n",
        "  cr1, cr2 = model(x).confidence_region()\n",
        "  cr1 = cr1.detach().numpy()\n",
        "  cr2 = cr2.detach().numpy()\n",
        "  from matplotlib import pyplot as plt\n",
        "\n",
        "\n",
        "  plt.scatter(data, target, facecolor=\"none\", edgecolor=\"b\", color=\"blue\", label=\"training\")\n",
        "  plt.plot(x, sinusoidal(x), color=\"g\", label=\"sin$(2\\pi x)$\")\n",
        "  plt.plot(x, mean, color=\"r\", label=\"gpr\")\n",
        "  plt.fill_between(torch.squeeze(x), cr1, cr2, alpha=0.5, color=\"pink\", label=\"std\")\n",
        "  plt.show()"
      ],
      "execution_count": null,
      "outputs": [
        {
          "output_type": "display_data",
          "data": {
            "image/png": "[encoded data removed]",
            "text/plain": [
              "<Figure size 432x288 with 1 Axes>"
            ]
          },
          "metadata": {
            "needs_background": "light"
          }
        }
      ]
    }
  ]
}